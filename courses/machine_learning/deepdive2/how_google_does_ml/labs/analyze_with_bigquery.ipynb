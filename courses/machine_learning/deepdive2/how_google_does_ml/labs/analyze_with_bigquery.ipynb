{
 "cells": [
  {
   "cell_type": "markdown",
   "metadata": {},
   "source": [
    "# Analyze a large dataset with Google BigQuery\n",
    "\n",
    "**Learning Objectives**\n",
    "\n",
    "In this lab, you use BigQuery to:\n",
    "- Access an ecommerce dataset\n",
    "- Look at the dataset metadata\n",
    "- Remove duplicate entries\n",
    "- Write and execute queries\n",
    "___\n",
    "\n",
    "## Introduction \n",
    "BigQuery is Google's fully managed, NoOps, low cost analytics database. With BigQuery you can query terabytes and terabytes of data without having any infrastructure to manage or needing a database administrator. BigQuery uses SQL and can take advantage of the pay-as-you-go model. BigQuery allows you to focus on analyzing data to find meaningful insights.\n",
    "\n",
    "We have a publicly available ecommerce dataset that has millions of Google Analytics records for the Google Merchandise Store loaded into a table in BigQuery. In this lab, you use a copy of that dataset. Sample scenarios are provided, from which you look at the data and ways to remove duplicate information. The lab then steps you through further analysis the data.\n",
    "\n",
    "BigQuery can be accessed by its own browser-based interface, Google Data Studio, and many third party tools.  In this lab you will use the BigQuery Command Line interface exposed to the JuypterLab notebook via a Python library.\n",
    "\n",
    "To follow and experiment with the BigQuery queries provided to analyze the data, see Standard SQL Query Syntax.\n",
    "___"
   ]
  },
  {
   "cell_type": "markdown",
   "metadata": {},
   "source": [
    "### Set up the notebook environment\n",
    "\n",
    "__VERY IMPORTANT__:  In the cell below you must replace the text 'QWIKLABSPROJECT' with your Qwiklabs Project Name as provided during the setup of your environment. Please leave any surrounding single quotes in place."
   ]
  },
  {
   "cell_type": "code",
   "execution_count": null,
   "metadata": {},
   "outputs": [],
   "source": [
    "PROJECT = 'QWIKLABSPROJECT' #TODO Replace with your Qwiklabs PROJECT"
   ]
  },
  {
   "cell_type": "code",
   "execution_count": null,
   "metadata": {},
   "outputs": [],
   "source": [
    "import os\n",
    "os.environ[\"PROJECT\"] = PROJECT"
   ]
  },
  {
   "cell_type": "markdown",
   "metadata": {},
   "source": [
    "## Explore eCommerce data and identify duplicate records\n",
    "\n",
    "Scenario: Your data analyst team exported the Google Analytics logs for an ecommerce website into BigQuery and created a new table of all the raw ecommerce visitor session data.\n",
    "\n",
    "Any cell that starts with `%%bigquery` (the BigQuery Magic) will be interpreted as a SQL query that is executed on BigQuery, and the result is printed to our notebook.\n",
    "\n",
    "BigQuery supports [two flavors](https://cloud.google.com/bigquery/docs/reference/standard-sql/migrating-from-legacy-sql#comparison_of_legacy_and_standard_sql) of SQL syntax: legacy SQL and standard SQL. The preferred is standard SQL because it complies with the official SQL:2011 standard. To instruct BigQuery to interpret our syntax as such we start the query with `#standardSQL`.\n",
    "\n",
    "Our first query is accessing the BigQuery Information Schema which stores all object-related metadata.  In this case we want to see metadata details for the \"all_sessions_raw\" table. \n",
    "\n",
    "Tip: To run the current cell you can click the cell and hit **shift enter**"
   ]
  },
  {
   "cell_type": "code",
   "execution_count": null,
   "metadata": {},
   "outputs": [],
   "source": [
    "%%bigquery --project $PROJECT\n",
    "#standardSQL\n",
    "SELECT\n",
    "   * EXCEPT(table_catalog, table_schema, is_generated, generation_expression, is_stored, is_updatable,\n",
    "           is_hidden, is_system_defined, is_partitioning_column, clustering_ordinal_position)\n",
    " FROM\n",
    "   `data-to-insights.ecommerce.INFORMATION_SCHEMA.COLUMNS`\n",
    " WHERE\n",
    "   table_name=\"all_sessions_raw\""
   ]
  },
  {
   "cell_type": "markdown",
   "metadata": {},
   "source": [
    "Next examine how many rows are in the table."
   ]
  },
  {
   "cell_type": "code",
   "execution_count": null,
   "metadata": {},
   "outputs": [],
   "source": [
    "%%bigquery --project $PROJECT\n",
    "#standardSQL\n",
    "SELECT\n",
    "    count(*)\n",
    "FROM\n",
    "    `data-to-insights.ecommerce.all_sessions_raw`"
   ]
  },
  {
   "cell_type": "markdown",
   "metadata": {},
   "source": [
    "Now take a quick at few rows of data in the table."
   ]
  },
  {
   "cell_type": "code",
   "execution_count": null,
   "metadata": {},
   "outputs": [],
   "source": [
    "%%bigquery --project $PROJECT\n",
    "#standardSQL\n",
    "SELECT\n",
    "    *\n",
    "FROM\n",
    "    `data-to-insights.ecommerce.all_sessions_raw`\n",
    "limit 7"
   ]
  },
  {
   "cell_type": "markdown",
   "metadata": {},
   "source": [
    "### Identify duplicate rows\n",
    "\n",
    "Seeing a sample amount of data may give you greater intuition for what is included in the dataset. But since the table is quite large, a preview is not likely to render meaningful resutls.  As you scan and scroll through the sample rows you see there is no singular field that uniquely identifies a row, so you need advanced logic to identify duplicate rows.\n",
    "\n",
    "The query below uses the SQL GROUP BY function on every field and counts (COUNT) where there are rows that have the same values across every field.\n",
    "\n",
    "If every field is unique, the COUNT will return 1 as there are no other groupings of rows with the exact same value for all fields.\n",
    "If there is a row with the same values for all fields, they will be grouped together and the COUNT will be greater than 1. The last part of the query is an aggregation filter using HAVING to only show the results that have a COUNT of duplicates greater than 1.\n",
    "Run the following query to find duplicate records across all columns."
   ]
  },
  {
   "cell_type": "code",
   "execution_count": null,
   "metadata": {},
   "outputs": [],
   "source": [
    "%%bigquery --project $PROJECT\n",
    "#standardSQL\n",
    "SELECT COUNT(*) as num_duplicate_rows, * FROM\n",
    "`data-to-insights.ecommerce.all_sessions_raw`\n",
    "GROUP BY\n",
    "fullVisitorId, channelGrouping, time, country, city, totalTransactionRevenue, transactions, \n",
    "timeOnSite, pageviews, sessionQualityDim, date, visitId, type, productRefundAmount, productQuantity, \n",
    "productPrice, productRevenue, productSKU, v2ProductName, v2ProductCategory, productVariant, \n",
    "currencyCode, itemQuantity, itemRevenue, transactionRevenue, transactionId, pageTitle, \n",
    "searchKeyword, pagePathLevel1, eCommerceAction_type, eCommerceAction_step, eCommerceAction_option\n",
    "HAVING num_duplicate_rows > 1;"
   ]
  },
  {
   "cell_type": "markdown",
   "metadata": {},
   "source": [
    "As you can see there are quite a few \"duplicate\" records (615) when analyzed with these parameters.\n",
    "\n",
    "In your own datasets, even if you have a unique key, it is still beneficial to confirm the uniqueness of the rows with COUNT, GROUP BY, and HAVING before you begin your analysis."
   ]
  },
  {
   "cell_type": "markdown",
   "metadata": {},
   "source": [
    "## Analyze the new all_sessions table\n",
    "\n",
    "In this section you use a deduplicated table called all_sessions.\n",
    "\n",
    "Scenario: Your data analyst team has provided you with a relevant query, and your schema experts have identified the key fields that must be unique for each record per your schema.\n",
    "\n",
    "Run the query to confirm that no duplicates exist, this time against the \"all_sessions\" table:"
   ]
  },
  {
   "cell_type": "code",
   "execution_count": null,
   "metadata": {},
   "outputs": [],
   "source": [
    "%%bigquery --project $PROJECT\n",
    "#standardSQL\n",
    "SELECT\n",
    "fullVisitorId, # the unique visitor ID\n",
    "visitId, # a visitor can have multiple visits\n",
    "date, # session date stored as string YYYYMMDD\n",
    "time, # time of the individual site hit  (can be 0 to many per visitor session)\n",
    "v2ProductName, # not unique since a product can have variants like Color\n",
    "productSKU, # unique for each product\n",
    "type, # a visitor can visit Pages and/or can trigger Events (even at the same time)\n",
    "eCommerceAction_type, # maps to ‘add to cart', ‘completed checkout'\n",
    "eCommerceAction_step,\n",
    "eCommerceAction_option,\n",
    "  transactionRevenue, # revenue of the order\n",
    "  transactionId, # unique identifier for revenue bearing transaction\n",
    "COUNT(*) as row_count\n",
    "FROM\n",
    "`data-to-insights.ecommerce.all_sessions`\n",
    "GROUP BY 1,2,3,4,5,6,7,8,9,10,11,12\n",
    "HAVING row_count > 1 # find duplicates"
   ]
  },
  {
   "cell_type": "markdown",
   "metadata": {},
   "source": [
    "The query returns zero records."
   ]
  },
  {
   "cell_type": "markdown",
   "metadata": {},
   "source": [
    "## Write basic SQL against the eCommerce data\n",
    "\n",
    "In this section, you query for insights on the ecommerce dataset.\n",
    "\n",
    "A good first path of analysis is to find the total unique visitors\n",
    "The query below determines the total views by counting product_views and the number of unique visitors by counting fullVisitorID."
   ]
  },
  {
   "cell_type": "code",
   "execution_count": null,
   "metadata": {},
   "outputs": [],
   "source": [
    "%%bigquery --project $PROJECT\n",
    "#standardSQL\n",
    "SELECT\n",
    "  COUNT(*) AS product_views,\n",
    "  COUNT(DISTINCT fullVisitorId) AS unique_visitors\n",
    "FROM `data-to-insights.ecommerce.all_sessions`;"
   ]
  },
  {
   "cell_type": "markdown",
   "metadata": {},
   "source": [
    "The next query shows total unique visitors(fullVisitorID) by the referring site (channelGrouping):"
   ]
  },
  {
   "cell_type": "code",
   "execution_count": null,
   "metadata": {},
   "outputs": [],
   "source": [
    "%%bigquery --project $PROJECT\n",
    "#standardSQL\n",
    "SELECT\n",
    "  COUNT(DISTINCT fullVisitorId) AS unique_visitors,\n",
    "  channelGrouping\n",
    "FROM `data-to-insights.ecommerce.all_sessions`\n",
    "GROUP BY 2\n",
    "ORDER BY 2 DESC;"
   ]
  },
  {
   "cell_type": "markdown",
   "metadata": {},
   "source": [
    "To find deeper insights in the data, the next query lists the five products with the most views (product_views) from unique visitors. The query counts number of times a product (v2ProductName) was viewed (product_views), puts the list in descending order, and lists the top 5 entries:"
   ]
  },
  {
   "cell_type": "code",
   "execution_count": null,
   "metadata": {},
   "outputs": [],
   "source": [
    "%%bigquery --project $PROJECT\n",
    "#standardSQL\n",
    "SELECT\n",
    "  COUNT(*) AS product_views,\n",
    "  (v2ProductName) AS ProductName\n",
    "FROM `data-to-insights.ecommerce.all_sessions`\n",
    "WHERE type = 'PAGE'\n",
    "GROUP BY v2ProductName\n",
    "ORDER BY product_views DESC\n",
    "LIMIT 5;"
   ]
  },
  {
   "cell_type": "markdown",
   "metadata": {},
   "source": [
    "Now expand your previous query to include the total number of distinct products ordered and the total number of total units ordered (productQuantity):"
   ]
  },
  {
   "cell_type": "code",
   "execution_count": null,
   "metadata": {},
   "outputs": [],
   "source": [
    "%%bigquery --project $PROJECT\n",
    "#standardSQL\n",
    "SELECT\n",
    "  COUNT(*) AS product_views,\n",
    "  COUNT(productQuantity) AS orders,\n",
    "  SUM(productQuantity) AS quantity_product_ordered,\n",
    "  v2ProductName\n",
    "FROM `data-to-insights.ecommerce.all_sessions`\n",
    "WHERE type = 'PAGE'\n",
    "GROUP BY v2ProductName\n",
    "ORDER BY product_views DESC\n",
    "LIMIT 5;"
   ]
  },
  {
   "cell_type": "markdown",
   "metadata": {},
   "source": [
    "Lastly, expand the query to include the average amount of product per order (total number of units ordered/total number of orders, or SUM(productQuantity)/COUNT(productQuantity))."
   ]
  },
  {
   "cell_type": "code",
   "execution_count": null,
   "metadata": {},
   "outputs": [],
   "source": [
    "%%bigquery --project $PROJECT\n",
    "#standardSQL\n",
    "SELECT\n",
    "  COUNT(*) AS product_views,\n",
    "  COUNT(productQuantity) AS orders,\n",
    "  SUM(productQuantity) AS quantity_product_ordered,\n",
    "  SUM(productQuantity) / COUNT(productQuantity) AS avg_per_order,\n",
    "  (v2ProductName) AS ProductName\n",
    "FROM `data-to-insights.ecommerce.all_sessions`\n",
    "WHERE type = 'PAGE'\n",
    "GROUP BY v2ProductName\n",
    "ORDER BY product_views DESC\n",
    "LIMIT 5;"
   ]
  },
  {
   "cell_type": "markdown",
   "metadata": {},
   "source": [
    "You can see that among these top 5 products by product views that the 22 oz YouTube Bottle Infuser had the highest avg_per_order with 9.38 units per order."
   ]
  },
  {
   "cell_type": "markdown",
   "metadata": {},
   "source": [
    "Copyright 2019 Google Inc.\n",
    "Licensed under the Apache License, Version 2.0 (the \"License\"); you may not use this file except in compliance with the License. You may obtain a copy of the License at\n",
    "http://www.apache.org/licenses/LICENSE-2.0\n",
    "Unless required by applicable law or agreed to in writing, software distributed under the License is distributed on an \"AS IS\" BASIS, WITHOUT WARRANTIES OR CONDITIONS OF ANY KIND, either express or implied. See the License for the specific language governing permissions and limitations under the License."
   ]
  }
 ],
 "metadata": {
  "kernelspec": {
   "display_name": "Python 3",
   "language": "python",
   "name": "python3"
  },
  "language_info": {
   "codemirror_mode": {
    "name": "ipython",
    "version": 3
   },
   "file_extension": ".py",
   "mimetype": "text/x-python",
   "name": "python",
   "nbconvert_exporter": "python",
   "pygments_lexer": "ipython3",
   "version": "3.5.3"
  }
 },
 "nbformat": 4,
 "nbformat_minor": 4
}

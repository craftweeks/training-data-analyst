{
 "cells": [
  {
   "cell_type": "markdown",
   "metadata": {
    "colab_type": "text",
    "id": "aklJxkHBD5aR"
   },
   "source": [
    "# Introduction to BigQuery ML - Predict Birth Weight\n",
    "\n",
    "**Learning Objectives**\n",
    "\n",
    "In this lab, you learn to perform the following tasks:\n",
    "\n",
    "- Use BigQuery to explore the natality dataset\n",
    "- Create a training and evaluation dataset for prediction\n",
    "- Create a regression (linear regression) model in BQML\n",
    "- Evaluate the performance of your machine learning model\n",
    "- Use feature engineering to improve model accuracy\n",
    "- Predict baby weight from a set of features\n",
    "\n",
    "___\n",
    "\n",
    "## Introduction \n",
    "\n",
    "In this lab, you will be using the US Centers for Disease Control and Prevention's (CDC) natality data to build a model to predict baby birth weights based on a handful of features known at pregnancy. Because we're predicting a continuous value, this is a regression problem, and for that, we'll use the linear regression model built into BQML.\n",
    "\n",
    "---"
   ]
  },
  {
   "cell_type": "markdown",
   "metadata": {},
   "source": [
    "### Set up the notebook environment\n",
    "\n",
    "__VERY IMPORTANT__:  In the cell below you must replace the text 'QWIKLABSPROJECT' with your Qwiklabs Project Name as provided during the setup of your environment. Please leave any surrounding single quotes in place."
   ]
  },
  {
   "cell_type": "code",
   "execution_count": null,
   "metadata": {
    "colab": {
     "autoexec": {
      "startup": false,
      "wait_interval": 0
     }
    },
    "colab_type": "code",
    "id": "BhUiclqCD5aT"
   },
   "outputs": [],
   "source": [
    "PROJECT = 'QWIKLABSPROJECT' #TODO Replace with your Qwiklabs PROJECT"
   ]
  },
  {
   "cell_type": "markdown",
   "metadata": {
    "colab_type": "text",
    "id": "j782YaAzD5ae"
   },
   "source": [
    "## Exploring the Data\n",
    "\n",
    "This lab will use natality data and training on features to predict the birth weight.\n",
    "\n",
    "The CDC's Natality data has details on US births from 1969 to 2008 and is available in BigQuery as a public data set. More details: https://bigquery.cloud.google.com/table/publicdata:samples.natality?tab=details\n",
    "\n",
    "Start by looking at the data since 2000 with useful values, those greater than 0.\n",
    "\n",
    "Note:  \"__%%bigquery__\" is a magic which allows quick access to BigQuery from within a notebook."
   ]
  },
  {
   "cell_type": "code",
   "execution_count": null,
   "metadata": {
    "colab": {
     "autoexec": {
      "startup": false,
      "wait_interval": 0
     }
    },
    "colab_type": "code",
    "id": "odWaIcLdD5af",
    "outputId": "2654ad9b-a735-4cd3-c3d9-80ebed8ed6bf"
   },
   "outputs": [],
   "source": [
    "%%bigquery \n",
    "SELECT\n",
    "    *\n",
    "FROM\n",
    "  publicdata.samples.natality\n",
    "WHERE\n",
    "  year > 2000\n",
    "  AND gestation_weeks > 0\n",
    "  AND mother_age > 0\n",
    "  AND plurality > 0\n",
    "  AND weight_pounds > 0\n",
    "LIMIT 10"
   ]
  },
  {
   "cell_type": "markdown",
   "metadata": {
    "colab_type": "text",
    "id": "ep02J20pD5ai"
   },
   "source": [
    "## Define Features\n",
    "\n",
    "Looking over the data set, there are a few columns of interest that could be leveraged into features for a reasonable prediction of approximate birth weight.\n",
    "\n",
    "Further, some feature engineering may be accomplished with the BigQuery `CAST` function -- in BQML, all strings are considered categorical features and all numeric types are considered continuous ones.\n",
    "\n",
    "The hashmonth is added so that we can repeatably split the data without leakage -- the goal is to have all babies that share a birthday to be either in training set or in test set and not spread between them (otherwise, there would be information leakage when it comes to triplets, etc.)"
   ]
  },
  {
   "cell_type": "code",
   "execution_count": null,
   "metadata": {
    "colab": {
     "autoexec": {
      "startup": false,
      "wait_interval": 0
     }
    },
    "colab_type": "code",
    "id": "DPUCYDjlD5aj",
    "outputId": "3cbc1dbe-22d0-406c-fe9c-0a019040ae3d"
   },
   "outputs": [],
   "source": [
    "%%bigquery\n",
    "SELECT\n",
    "    weight_pounds, -- this is the label; because it is continuous, we need to use regression\n",
    "    CAST(is_male AS STRING) AS is_male,\n",
    "    mother_age,\n",
    "    CAST(plurality AS STRING) AS plurality,\n",
    "    gestation_weeks,\n",
    "    ABS(FARM_FINGERPRINT(CONCAT(CAST(YEAR AS STRING), CAST(month AS STRING)))) AS hashmonth\n",
    "FROM\n",
    "  publicdata.samples.natality\n",
    "WHERE\n",
    "  year > 2000\n",
    "  AND gestation_weeks > 0\n",
    "  AND mother_age > 0\n",
    "  AND plurality > 0\n",
    "  AND weight_pounds > 0\n",
    "LIMIT 10"
   ]
  },
  {
   "cell_type": "markdown",
   "metadata": {
    "colab_type": "text",
    "id": "H-d7C8KcD5am"
   },
   "source": [
    "## Train Model\n",
    "\n",
    "With the relevant columns chosen to accomplish predictions, it is then possible to create and train the model in BigQuery. First, a dataset will be needed store the model."
   ]
  },
  {
   "cell_type": "code",
   "execution_count": null,
   "metadata": {
    "colab": {
     "autoexec": {
      "startup": false,
      "wait_interval": 0
     }
    },
    "colab_type": "code",
    "id": "bWMZJQdKD5an"
   },
   "outputs": [],
   "source": [
    "%%bash\n",
    "bq --location=US mk -d demo"
   ]
  },
  {
   "cell_type": "markdown",
   "metadata": {
    "colab_type": "text",
    "id": "T9JZIQ9nD5ap"
   },
   "source": [
    "With the demo dataset ready, it is possible to create a linear regression model to train the model.\n",
    "\n",
    "This will take approximately **5 to 7 minutes** to run.  Feedback from BigQuery will cease in output cell and the notebook will leave the \"busy\" state when complete."
   ]
  },
  {
   "cell_type": "code",
   "execution_count": null,
   "metadata": {
    "colab": {
     "autoexec": {
      "startup": false,
      "wait_interval": 0
     }
    },
    "colab_type": "code",
    "id": "V-UJOX0tD5aq",
    "outputId": "63aa219c-a14f-4db5-a271-2e614759fe1a"
   },
   "outputs": [],
   "source": [
    "%%bigquery\n",
    "CREATE or REPLACE MODEL demo.babyweight_model_asis\n",
    "OPTIONS\n",
    "  (model_type='linear_reg', labels=['weight_pounds'], optimize_strategy='batch_gradient_descent') AS\n",
    "  \n",
    "WITH natality_data AS (\n",
    "  SELECT\n",
    "    weight_pounds,-- this is the label; because it is continuous, we need to use regression\n",
    "    CAST(is_male AS STRING) AS is_male,\n",
    "    mother_age,\n",
    "    CAST(plurality AS STRING) AS plurality,\n",
    "    gestation_weeks,\n",
    "    ABS(FARM_FINGERPRINT(CONCAT(CAST(YEAR AS STRING), CAST(month AS STRING)))) AS hashmonth\n",
    "  FROM\n",
    "    publicdata.samples.natality\n",
    "  WHERE\n",
    "    year > 2000\n",
    "    AND gestation_weeks > 0\n",
    "    AND mother_age > 0\n",
    "    AND plurality > 0\n",
    "    AND weight_pounds > 0\n",
    ")\n",
    "\n",
    "SELECT\n",
    "    weight_pounds,\n",
    "    is_male,\n",
    "    mother_age,\n",
    "    plurality,\n",
    "    gestation_weeks\n",
    "FROM\n",
    "    natality_data\n",
    "WHERE\n",
    "  MOD(hashmonth, 4) < 3  -- select 75% of the data as training"
   ]
  },
  {
   "cell_type": "markdown",
   "metadata": {
    "colab_type": "text",
    "id": "mJYtGxWyD5at"
   },
   "source": [
    "## Training Statistics"
   ]
  },
  {
   "cell_type": "markdown",
   "metadata": {
    "colab_type": "text",
    "id": "0L92s-gtD5au"
   },
   "source": [
    "For all training runs, statistics are captured in the \"TRAINING_INFO\" table. This table has basic performance statistics for each iteration.\n",
    "\n",
    "The query below returns the training details."
   ]
  },
  {
   "cell_type": "code",
   "execution_count": null,
   "metadata": {
    "colab": {
     "autoexec": {
      "startup": false,
      "wait_interval": 0
     }
    },
    "colab_type": "code",
    "id": "ZbV6aDcRD5au",
    "outputId": "9518b192-2f7f-4b69-e612-2e3068f9925c"
   },
   "outputs": [],
   "source": [
    "%%bigquery\n",
    "SELECT * FROM ML.TRAINING_INFO(MODEL demo.babyweight_model_asis);"
   ]
  },
  {
   "cell_type": "markdown",
   "metadata": {
    "colab_type": "text",
    "id": "CATWu60vD5ay"
   },
   "source": [
    "Some of these columns are obvious although what do the non-specific ML columns mean (specific to BQML)?\n",
    "\n",
    "**training_run** - Will be zero for a newly created model. If the model is re-trained using warm_start, this will increment for each re-training.\n",
    "\n",
    "**iteration** - Number of the associated `training_run`, starting with zero for the first iteration.\n",
    "\n",
    "**duration_ms** - Indicates how long the iteration took (in ms).\n",
    "\n",
    "Next plot the training and evaluation loss to see if the model has an overfit."
   ]
  },
  {
   "cell_type": "code",
   "execution_count": null,
   "metadata": {},
   "outputs": [],
   "source": [
    "from google.cloud import bigquery\n",
    "client = bigquery.Client()\n",
    "sql = \"\"\"SELECT * FROM ML.TRAINING_INFO(MODEL demo.babyweight_model_asis)\"\"\"\n",
    "df = client.query(sql).to_dataframe()\n",
    "# plot both lines in same graph\n",
    "import matplotlib.pyplot as plt\n",
    "plt.plot( 'iteration', 'loss', data=df, marker='o', color='orange', linewidth=2)\n",
    "plt.plot( 'iteration', 'eval_loss', data=df, marker='', color='green', linewidth=2, linestyle='dashed')\n",
    "plt.xlabel('iteration')\n",
    "plt.ylabel('loss')\n",
    "plt.legend();"
   ]
  },
  {
   "cell_type": "markdown",
   "metadata": {
    "colab_type": "text",
    "id": "Add--LfeD5a2"
   },
   "source": [
    "As you can see, the training loss and evaluation loss are essentially identical. There does not appear to be any overfitting."
   ]
  },
  {
   "cell_type": "markdown",
   "metadata": {
    "colab_type": "text",
    "id": "9QPwMA_ZD5a3"
   },
   "source": [
    "## Make a Prediction with BQML using the Model"
   ]
  },
  {
   "cell_type": "markdown",
   "metadata": {
    "colab_type": "text",
    "id": "9QBZxMb6D5a5"
   },
   "source": [
    "With a trained model, it is now possible to make a prediction on the values. The only difference from the second query above is the reference to the model. The data has been limited (`LIMIT 100`) to reduce amount of data returned.\n",
    "\n",
    "When the `ml.predict` function is leveraged, output prediction column name for the model is `predicted_<label_column_name>`."
   ]
  },
  {
   "cell_type": "code",
   "execution_count": null,
   "metadata": {
    "colab": {
     "autoexec": {
      "startup": false,
      "wait_interval": 0
     }
    },
    "colab_type": "code",
    "id": "x-hedqSeD5a6",
    "outputId": "e9bbeb43-900c-420a-8520-2feeccf79239"
   },
   "outputs": [],
   "source": [
    "%%bigquery\n",
    "SELECT\n",
    "  *\n",
    "FROM\n",
    "  ml.PREDICT(MODEL demo.babyweight_model_asis,\n",
    "      (SELECT\n",
    "        weight_pounds,\n",
    "        CAST(is_male AS STRING) AS is_male,\n",
    "        mother_age,\n",
    "        CAST(plurality AS STRING) AS plurality,\n",
    "        gestation_weeks\n",
    "      FROM\n",
    "        publicdata.samples.natality\n",
    "      WHERE\n",
    "        year > 2000\n",
    "        AND gestation_weeks > 0\n",
    "        AND mother_age > 0\n",
    "        AND plurality > 0\n",
    "        AND weight_pounds > 0\n",
    "    ))\n",
    "LIMIT 100"
   ]
  },
  {
   "cell_type": "markdown",
   "metadata": {
    "colab_type": "text",
    "id": "0DZorSI-D5a9"
   },
   "source": [
    "# More advanced...\n",
    "\n",
    "In the original example, the assumption was that if no ultrasound has been performed, some of the features (e.g. is_male) will not be known. Therefore, the dataset was augmented with such masked features and trained a single model to deal with both these scenarios.\n",
    "\n",
    "In addition, during data exploration, it was discovered that the data size set for mothers older than 45 was quite sparse, so a decision was made to discretize the mother's age."
   ]
  },
  {
   "cell_type": "code",
   "execution_count": null,
   "metadata": {
    "colab": {
     "autoexec": {
      "startup": false,
      "wait_interval": 0
     }
    },
    "colab_type": "code",
    "id": "SnNOrcMfD5a-",
    "outputId": "316cc091-ffd8-4dce-ae9c-b56fef884593"
   },
   "outputs": [],
   "source": [
    "%%bigquery\n",
    "SELECT\n",
    "    weight_pounds,\n",
    "    CAST(is_male AS STRING) AS is_male,\n",
    "    IF(mother_age < 18, 'LOW',\n",
    "         IF(mother_age > 45, 'HIGH',\n",
    "            CAST(mother_age AS STRING))) AS mother_age,\n",
    "    CAST(plurality AS STRING) AS plurality,\n",
    "    CAST(gestation_weeks AS STRING) AS gestation_weeks,\n",
    "    ABS(FARM_FINGERPRINT(CONCAT(CAST(YEAR AS STRING), CAST(month AS STRING)))) AS hashmonth\n",
    "  FROM\n",
    "    publicdata.samples.natality\n",
    "  WHERE\n",
    "    year > 2000\n",
    "    AND gestation_weeks > 0\n",
    "    AND mother_age > 0\n",
    "    AND plurality > 0\n",
    "    AND weight_pounds > 0\n",
    "LIMIT 25"
   ]
  },
  {
   "cell_type": "markdown",
   "metadata": {
    "colab_type": "text",
    "id": "ZwetSzIeD5bC"
   },
   "source": [
    "On the same dataset also suppose that it is unknown whether the child is male or female (on the same dataset) to simulate that an ultrasound was not been performed."
   ]
  },
  {
   "cell_type": "code",
   "execution_count": null,
   "metadata": {
    "colab": {
     "autoexec": {
      "startup": false,
      "wait_interval": 0
     }
    },
    "colab_type": "code",
    "id": "Y_MSEYqBD5bC",
    "outputId": "22f63e28-93c6-4086-f3f8-68e5ffdaa364"
   },
   "outputs": [],
   "source": [
    "%%bigquery\n",
    "SELECT\n",
    "    weight_pounds,\n",
    "    'Unknown' AS is_male,\n",
    "    IF(mother_age < 18, 'LOW',\n",
    "         IF(mother_age > 45, 'HIGH',\n",
    "            CAST(mother_age AS STRING))) AS mother_age,\n",
    "    IF(plurality > 1, 'Multiple', 'Single') AS plurality,\n",
    "    CAST(gestation_weeks AS STRING) AS gestation_weeks,\n",
    "    ABS(FARM_FINGERPRINT(CONCAT(CAST(YEAR AS STRING), CAST(month AS STRING)))) AS hashmonth\n",
    "  FROM\n",
    "    publicdata.samples.natality\n",
    "  WHERE\n",
    "    year > 2000\n",
    "    AND gestation_weeks > 0\n",
    "    AND mother_age > 0\n",
    "    AND plurality > 0\n",
    "    AND weight_pounds > 0\n",
    "LIMIT 25"
   ]
  },
  {
   "cell_type": "markdown",
   "metadata": {
    "colab_type": "text",
    "id": "MmY2chPyD5bI"
   },
   "source": [
    "When these two separate data sets are joined together there is now a dataset for male or female children determined with ultrasound or unknown if without. "
   ]
  },
  {
   "cell_type": "code",
   "execution_count": null,
   "metadata": {
    "colab": {
     "autoexec": {
      "startup": false,
      "wait_interval": 0
     }
    },
    "colab_type": "code",
    "id": "2XblYiMVD5bJ",
    "outputId": "38526c88-c10d-499d-f187-2296647cc1c7"
   },
   "outputs": [],
   "source": [
    "%%bigquery\n",
    "WITH with_ultrasound AS (\n",
    "  SELECT\n",
    "    weight_pounds,\n",
    "    CAST(is_male AS STRING) AS is_male,\n",
    "    IF(mother_age < 18, 'LOW',\n",
    "         IF(mother_age > 45, 'HIGH',\n",
    "            CAST(mother_age AS STRING))) AS mother_age,\n",
    "    CAST(plurality AS STRING) AS plurality,\n",
    "    CAST(gestation_weeks AS STRING) AS gestation_weeks,\n",
    "    ABS(FARM_FINGERPRINT(CONCAT(CAST(YEAR AS STRING), CAST(month AS STRING)))) AS hashmonth\n",
    "  FROM\n",
    "    publicdata.samples.natality\n",
    "  WHERE\n",
    "    year > 2000\n",
    "    AND gestation_weeks > 0\n",
    "    AND mother_age > 0\n",
    "    AND plurality > 0\n",
    "    AND weight_pounds > 0\n",
    "),\n",
    "\n",
    "without_ultrasound AS (\n",
    "  SELECT\n",
    "    weight_pounds,\n",
    "    'Unknown' AS is_male,\n",
    "    IF(mother_age < 18, 'LOW',\n",
    "         IF(mother_age > 45, 'HIGH',\n",
    "            CAST(mother_age AS STRING))) AS mother_age,\n",
    "    IF(plurality > 1, 'Multiple', 'Single') AS plurality,\n",
    "    CAST(gestation_weeks AS STRING) AS gestation_weeks,\n",
    "    ABS(FARM_FINGERPRINT(CONCAT(CAST(YEAR AS STRING), CAST(month AS STRING)))) AS hashmonth\n",
    "  FROM\n",
    "    publicdata.samples.natality\n",
    "  WHERE\n",
    "    year > 2000\n",
    "    AND gestation_weeks > 0\n",
    "    AND mother_age > 0\n",
    "    AND plurality > 0\n",
    "    AND weight_pounds > 0\n",
    "),\n",
    "\n",
    "preprocessed AS (\n",
    "  SELECT * from with_ultrasound\n",
    "  UNION ALL\n",
    "  SELECT * from without_ultrasound\n",
    ")\n",
    "\n",
    "SELECT\n",
    "    weight_pounds,\n",
    "    is_male,\n",
    "    mother_age,\n",
    "    plurality,\n",
    "    gestation_weeks\n",
    "FROM\n",
    "    preprocessed\n",
    "WHERE\n",
    "  MOD(hashmonth, 4) < 3\n",
    "LIMIT 25"
   ]
  },
  {
   "cell_type": "markdown",
   "metadata": {
    "colab_type": "text",
    "id": "hNnZxDw9D5bN"
   },
   "source": [
    "## Create a new model\n",
    "\n",
    "With a data set that has been feature engineered, you are now ready to create a new model with the `CREATE or REPLACE MODEL` statement\n",
    "\n",
    "This will take **4-6 minutes**. Feedback from BigQuery will cease in output cell and the notebook will leave the \"busy\" state when complete."
   ]
  },
  {
   "cell_type": "code",
   "execution_count": null,
   "metadata": {
    "colab": {
     "autoexec": {
      "startup": false,
      "wait_interval": 0
     }
    },
    "colab_type": "code",
    "id": "aKPqXqicD5bP"
   },
   "outputs": [],
   "source": [
    "%%bigquery\n",
    "CREATE or REPLACE MODEL demo.babyweight_model_fc\n",
    "OPTIONS\n",
    "  (model_type='linear_reg', labels=['weight_pounds'], optimize_strategy='batch_gradient_descent') AS\n",
    "  \n",
    "WITH with_ultrasound AS (\n",
    "  SELECT\n",
    "    weight_pounds,\n",
    "    CAST(is_male AS STRING) AS is_male,\n",
    "    IF(mother_age < 18, 'LOW',\n",
    "         IF(mother_age > 45, 'HIGH',\n",
    "            CAST(mother_age AS STRING))) AS mother_age,\n",
    "    CAST(plurality AS STRING) AS plurality,\n",
    "    CAST(gestation_weeks AS STRING) AS gestation_weeks,\n",
    "    ABS(FARM_FINGERPRINT(CONCAT(CAST(YEAR AS STRING), CAST(month AS STRING)))) AS hashmonth\n",
    "  FROM\n",
    "    publicdata.samples.natality\n",
    "  WHERE\n",
    "    year > 2000\n",
    "    AND gestation_weeks > 0\n",
    "    AND mother_age > 0\n",
    "    AND plurality > 0\n",
    "    AND weight_pounds > 0\n",
    "),\n",
    "\n",
    "without_ultrasound AS (\n",
    "  SELECT\n",
    "    weight_pounds,\n",
    "    'Unknown' AS is_male,\n",
    "    IF(mother_age < 18, 'LOW',\n",
    "         IF(mother_age > 45, 'HIGH',\n",
    "            CAST(mother_age AS STRING))) AS mother_age,\n",
    "    IF(plurality > 1, 'Multiple', 'Single') AS plurality,\n",
    "    CAST(gestation_weeks AS STRING) AS gestation_weeks,\n",
    "    ABS(FARM_FINGERPRINT(CONCAT(CAST(YEAR AS STRING), CAST(month AS STRING)))) AS hashmonth\n",
    "  FROM\n",
    "    publicdata.samples.natality\n",
    "  WHERE\n",
    "    year > 2000\n",
    "    AND gestation_weeks > 0\n",
    "    AND mother_age > 0\n",
    "    AND plurality > 0\n",
    "    AND weight_pounds > 0\n",
    "),\n",
    "\n",
    "preprocessed AS (\n",
    "  SELECT * from with_ultrasound\n",
    "  UNION ALL\n",
    "  SELECT * from without_ultrasound\n",
    ")\n",
    "\n",
    "SELECT\n",
    "    weight_pounds,\n",
    "    is_male,\n",
    "    mother_age,\n",
    "    plurality,\n",
    "    gestation_weeks\n",
    "FROM\n",
    "    preprocessed\n",
    "WHERE\n",
    "  MOD(hashmonth, 4) < 3"
   ]
  },
  {
   "cell_type": "markdown",
   "metadata": {
    "colab_type": "text",
    "id": "kQw9y9pGD5bQ"
   },
   "source": [
    "## Training Statistics\n",
    "\n",
    "Run the Python code below to return the training details in graph format."
   ]
  },
  {
   "cell_type": "code",
   "execution_count": null,
   "metadata": {},
   "outputs": [],
   "source": [
    "%%bigquery\n",
    "SELECT * FROM ML.TRAINING_INFO(MODEL demo.babyweight_model_fc);"
   ]
  },
  {
   "cell_type": "code",
   "execution_count": null,
   "metadata": {},
   "outputs": [],
   "source": [
    "from google.cloud import bigquery\n",
    "client = bigquery.Client()\n",
    "sql = \"\"\"SELECT * FROM ML.TRAINING_INFO(MODEL demo.babyweight_model_fc)\"\"\"\n",
    "df = client.query(sql).to_dataframe()\n",
    "# plot both lines in same graph\n",
    "import matplotlib.pyplot as plt\n",
    "plt.plot( 'iteration', 'loss', data=df, marker='o', color='orange', linewidth=2)\n",
    "plt.plot( 'iteration', 'eval_loss', data=df, marker='', color='green', linewidth=2, linestyle='dashed')\n",
    "plt.xlabel('iteration')\n",
    "plt.ylabel('loss')\n",
    "plt.legend();"
   ]
  },
  {
   "cell_type": "markdown",
   "metadata": {
    "colab_type": "text",
    "id": "1jlHzJqfD5bU"
   },
   "source": [
    "## Make a prediction with the new model\n",
    "\n"
   ]
  },
  {
   "cell_type": "markdown",
   "metadata": {
    "colab_type": "text",
    "id": "EGo8fj9qD5bU"
   },
   "source": [
    "With this latest model it is now possible to make a prediction of the baby's weight given a number of other factors: Gender in this case male, Mother is 28 years old, Mother will only have one child, and the baby was born after 38 weeks of pregnancy.\n",
    "\n",
    "To make this prediction, these values will be passed into the SELECT statement.\n",
    "\n",
    "To see the effect of different inputs, try changing the parameters being passed by editing the SQL.\n",
    "\n",
    "Use options like:  'False' for female, '36' as mother's age, '2' for birth of twins, and '40' for gestation weeks."
   ]
  },
  {
   "cell_type": "code",
   "execution_count": null,
   "metadata": {
    "colab": {
     "autoexec": {
      "startup": false,
      "wait_interval": 0
     }
    },
    "colab_type": "code",
    "id": "OTLYWJOSD5bV",
    "outputId": "83fe56d1-ddcb-4ca4-86bc-8a1ffa3d9c33"
   },
   "outputs": [],
   "source": [
    "%%bigquery\n",
    "SELECT\n",
    "  *\n",
    "FROM\n",
    "  ml.PREDICT(MODEL demo.babyweight_model_fc,\n",
    "      (SELECT\n",
    "          'True' AS is_male,\n",
    "          '28' AS mother_age,\n",
    "          '1' AS plurality,\n",
    "          '38' AS gestation_weeks\n",
    "    ))"
   ]
  },
  {
   "cell_type": "markdown",
   "metadata": {
    "colab_type": "text",
    "id": "PK_-WNGUD5bX"
   },
   "source": [
    "<br>\n",
    "<br>\n",
    "<br>\n",
    "<br>\n",
    "Copyright 2018 Google Inc. Licensed under the Apache License, Version 2.0 (the \"License\"); you may not use this file except in compliance with the License. You may obtain a copy of the License at http://www.apache.org/licenses/LICENSE-2.0 Unless required by applicable law or agreed to in writing, software distributed under the License is distributed on an \"AS IS\" BASIS, WITHOUT WARRANTIES OR CONDITIONS OF ANY KIND, either express or implied. See the License for the specific language governing permissions and limitations under the License"
   ]
  }
 ],
 "metadata": {
  "colab": {
   "default_view": {},
   "name": "babyweight_bqml.ipynb",
   "provenance": [],
   "version": "0.3.2",
   "views": {}
  },
  "kernelspec": {
   "display_name": "Python 3",
   "language": "python",
   "name": "python3"
  },
  "language_info": {
   "codemirror_mode": {
    "name": "ipython",
    "version": 3
   },
   "file_extension": ".py",
   "mimetype": "text/x-python",
   "name": "python",
   "nbconvert_exporter": "python",
   "pygments_lexer": "ipython3",
   "version": "3.5.3"
  }
 },
 "nbformat": 4,
 "nbformat_minor": 4
}
